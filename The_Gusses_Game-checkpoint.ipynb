{
 "cells": [
  {
   "cell_type": "code",
   "execution_count": 1,
   "id": "a9b8edb0",
   "metadata": {},
   "outputs": [
    {
     "name": "stdout",
     "output_type": "stream",
     "text": [
      "Enter Your guess: 23\n",
      "You Gussed it wrong! Enter a smaller Number\n",
      "You gussessed the number in 1 guesses\n",
      "Enter Your guess: 12\n",
      "You Gussed it wrong! Enter a grater Number\n",
      "You gussessed the number in 2 guesses\n",
      "Enter Your guess: 17\n",
      "You Gussed it wrong! Enter a grater Number\n",
      "You gussessed the number in 3 guesses\n",
      "Enter Your guess: 20\n",
      "You Gussed it wrong! Enter a smaller Number\n",
      "You gussessed the number in 4 guesses\n",
      "Enter Your guess: 19\n",
      "You Gussed it wrong! Enter a smaller Number\n",
      "You gussessed the number in 5 guesses\n",
      "Enter Your guess: 18\n",
      "You gussed it right!\n",
      "You gussessed the number in 6 guesses\n"
     ]
    }
   ],
   "source": [
    "#use of random module\n",
    "#Game for \"The Perfect Gusse\"\n",
    "import random\n",
    "randNumber = random.randint(1,100)\n",
    "userGuess = None\n",
    "gussess = 0\n",
    "while(userGuess != randNumber):\n",
    "    userGuess = int(input(\"Enter Your guess: \"))\n",
    "    gussess += 1\n",
    "    if(userGuess==randNumber):\n",
    "        print(\"You gussed it right!\")\n",
    "    else:\n",
    "        if(userGuess>randNumber):\n",
    "            print(\"You Gussed it wrong! Enter a smaller Number\")\n",
    "        else:\n",
    "             print(\"You Gussed it wrong! Enter a grater Number\")   \n",
    "    print(f\"You gussessed the number in {gussess} guesses\")\n"
   ]
  },
  {
   "cell_type": "code",
   "execution_count": null,
   "id": "8433199d",
   "metadata": {},
   "outputs": [],
   "source": []
  },
  {
   "cell_type": "code",
   "execution_count": null,
   "id": "60d5fbf4",
   "metadata": {},
   "outputs": [],
   "source": []
  }
 ],
 "metadata": {
  "kernelspec": {
   "display_name": "Python 3",
   "language": "python",
   "name": "python3"
  },
  "language_info": {
   "codemirror_mode": {
    "name": "ipython",
    "version": 3
   },
   "file_extension": ".py",
   "mimetype": "text/x-python",
   "name": "python",
   "nbconvert_exporter": "python",
   "pygments_lexer": "ipython3",
   "version": "3.8.8"
  }
 },
 "nbformat": 4,
 "nbformat_minor": 5
}
